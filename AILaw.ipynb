{
 "cells": [
  {
   "cell_type": "code",
   "execution_count": 2,
   "metadata": {},
   "outputs": [
    {
     "name": "stderr",
     "output_type": "stream",
     "text": [
      "[nltk_data] Downloading package punkt to\n",
      "[nltk_data]     C:\\Users\\user1\\AppData\\Roaming\\nltk_data...\n",
      "[nltk_data]   Package punkt is already up-to-date!\n"
     ]
    }
   ],
   "source": [
    "import numpy as np\n",
    "import pandas as pd\n",
    "import nltk\n",
    "nltk.download('punkt') # one time execution\n",
    "import re"
   ]
  },
  {
   "cell_type": "code",
   "execution_count": 3,
   "metadata": {},
   "outputs": [],
   "source": [
    "#save excel file, open in notepad and save with utf-8 encoding. later, open txt file and save as .csv with utf-8 encoding\n",
    "df = pd.read_csv(\"law2.csv\")"
   ]
  },
  {
   "cell_type": "code",
   "execution_count": 4,
   "metadata": {},
   "outputs": [
    {
     "data": {
      "text/html": [
       "<div>\n",
       "<style scoped>\n",
       "    .dataframe tbody tr th:only-of-type {\n",
       "        vertical-align: middle;\n",
       "    }\n",
       "\n",
       "    .dataframe tbody tr th {\n",
       "        vertical-align: top;\n",
       "    }\n",
       "\n",
       "    .dataframe thead th {\n",
       "        text-align: right;\n",
       "    }\n",
       "</style>\n",
       "<table border=\"1\" class=\"dataframe\">\n",
       "  <thead>\n",
       "    <tr style=\"text-align: right;\">\n",
       "      <th></th>\n",
       "      <th>article_id</th>\n",
       "      <th>article_text</th>\n",
       "      <th>source</th>\n",
       "    </tr>\n",
       "  </thead>\n",
       "  <tbody>\n",
       "    <tr>\n",
       "      <th>0</th>\n",
       "      <td>1</td>\n",
       "      <td>Apple Inc supplier TSMC has counter-sued small...</td>\n",
       "      <td>https://www.reuters.com/article/db-tsmc-global...</td>\n",
       "    </tr>\n",
       "    <tr>\n",
       "      <th>1</th>\n",
       "      <td>2</td>\n",
       "      <td>After weeks of scandal and speculation, the be...</td>\n",
       "      <td>https://www.theguardian.com/books/2019/apr/25/...</td>\n",
       "    </tr>\n",
       "    <tr>\n",
       "      <th>2</th>\n",
       "      <td>3</td>\n",
       "      <td>Adidas has been unsuccessful in an attempt to ...</td>\n",
       "      <td>https://www.theguardian.com/law/2019/jun/19/ad...</td>\n",
       "    </tr>\n",
       "    <tr>\n",
       "      <th>3</th>\n",
       "      <td>4</td>\n",
       "      <td>Meghan, Duchess of Sussex has taken the unusua...</td>\n",
       "      <td>https://www.theguardian.com/uk-news/2019/oct/0...</td>\n",
       "    </tr>\n",
       "  </tbody>\n",
       "</table>\n",
       "</div>"
      ],
      "text/plain": [
       "   article_id                                       article_text  \\\n",
       "0           1  Apple Inc supplier TSMC has counter-sued small...   \n",
       "1           2  After weeks of scandal and speculation, the be...   \n",
       "2           3  Adidas has been unsuccessful in an attempt to ...   \n",
       "3           4  Meghan, Duchess of Sussex has taken the unusua...   \n",
       "\n",
       "                                              source  \n",
       "0  https://www.reuters.com/article/db-tsmc-global...  \n",
       "1  https://www.theguardian.com/books/2019/apr/25/...  \n",
       "2  https://www.theguardian.com/law/2019/jun/19/ad...  \n",
       "3  https://www.theguardian.com/uk-news/2019/oct/0...  "
      ]
     },
     "execution_count": 4,
     "metadata": {},
     "output_type": "execute_result"
    }
   ],
   "source": [
    "df.head()"
   ]
  },
  {
   "cell_type": "code",
   "execution_count": 5,
   "metadata": {},
   "outputs": [
    {
     "data": {
      "text/plain": [
       "'Apple Inc supplier TSMC has counter-sued smaller contract chipmaking rival GlobalFoundries Inc in the United States, Germany and Singapore, saying the U.S. firm has infringed 25 of its patents. Taiwan Semiconductor Manufacturing Co Ltd (TSMC) said that in lawsuits filed on Monday it has asked for injunctions to stop GlobalFoundries’ manufacture and sale of chips that infringe the patents. TSMC, the world’s largest contract chipmaker, said in a statement on Tuesday it was seeking “substantial monetary damages from GlobalFoundries” but did not specify an amount. The lawsuits come just over a month after GlobalFoundries sued TSMC for allegedly infringing 16 patents, seeking to stop imports into the United States and Germany of products made with technologies using those patents. “TSMC has long used its dominant market position to exert pressure on its smaller competitors, and the retaliatory litigation filed today is in keeping with that history,” Santa Clara, California-based GlobalFoundries said in a statement. “We have confidence in our position and the legal process, and we are not intimidated by these actions.” GlobalFoundries said in August its lawsuits were aimed at protecting its investments in the United States. The company sought unspecified “significant” damages based on what it said was TSMC’s unlawful use of its technology in its “tens of billions of dollars of sales”. GlobalFoundries had listed Apple, Qualcomm Inc, Alphabet Inc’s Google, Nvidia Corp, Lenovo Group and Taiwan’ MediaTek Inc among TSMC customers affected by the complaints. TSMC at the time called GlobalFoundries’ allegations “baseless”.'"
      ]
     },
     "execution_count": 5,
     "metadata": {},
     "output_type": "execute_result"
    }
   ],
   "source": [
    "df['article_text'][0]"
   ]
  },
  {
   "cell_type": "code",
   "execution_count": 6,
   "metadata": {},
   "outputs": [],
   "source": [
    "from nltk.tokenize import sent_tokenize\n",
    "sentences = []\n",
    "for s in df['article_text']:\n",
    "  sentences.append(sent_tokenize(s))\n",
    "\n",
    "sentences = [y for x in sentences for y in x] # flatten list"
   ]
  },
  {
   "cell_type": "code",
   "execution_count": 7,
   "metadata": {},
   "outputs": [
    {
     "data": {
      "text/plain": [
       "['Apple Inc supplier TSMC has counter-sued smaller contract chipmaking rival GlobalFoundries Inc in the United States, Germany and Singapore, saying the U.S. firm has infringed 25 of its patents.',\n",
       " 'Taiwan Semiconductor Manufacturing Co Ltd (TSMC) said that in lawsuits filed on Monday it has asked for injunctions to stop GlobalFoundries’ manufacture and sale of chips that infringe the patents.',\n",
       " 'TSMC, the world’s largest contract chipmaker, said in a statement on Tuesday it was seeking “substantial monetary damages from GlobalFoundries” but did not specify an amount.',\n",
       " 'The lawsuits come just over a month after GlobalFoundries sued TSMC for allegedly infringing 16 patents, seeking to stop imports into the United States and Germany of products made with technologies using those patents.',\n",
       " '“TSMC has long used its dominant market position to exert pressure on its smaller competitors, and the retaliatory litigation filed today is in keeping with that history,” Santa Clara, California-based GlobalFoundries said in a statement.']"
      ]
     },
     "execution_count": 7,
     "metadata": {},
     "output_type": "execute_result"
    }
   ],
   "source": [
    "sentences[:5]"
   ]
  },
  {
   "cell_type": "code",
   "execution_count": 8,
   "metadata": {},
   "outputs": [],
   "source": [
    "# Extract word vectors\n",
    "word_embeddings = {}\n",
    "f = open('glove.6B.100d.txt', encoding='utf-8')\n",
    "for line in f:\n",
    "    values = line.split()\n",
    "    word = values[0]\n",
    "    coefs = np.asarray(values[1:], dtype='float32')\n",
    "    word_embeddings[word] = coefs\n",
    "f.close()"
   ]
  },
  {
   "cell_type": "code",
   "execution_count": 9,
   "metadata": {},
   "outputs": [
    {
     "data": {
      "text/plain": [
       "400000"
      ]
     },
     "execution_count": 9,
     "metadata": {},
     "output_type": "execute_result"
    }
   ],
   "source": [
    "len(word_embeddings)"
   ]
  },
  {
   "cell_type": "code",
   "execution_count": 10,
   "metadata": {},
   "outputs": [],
   "source": [
    "# remove punctuations, numbers and special characters\n",
    "clean_sentences = pd.Series(sentences).str.replace(\"[^a-zA-Z]\", \" \")\n",
    "\n",
    "# make alphabets lowercase\n",
    "clean_sentences = [s.lower() for s in clean_sentences]"
   ]
  },
  {
   "cell_type": "code",
   "execution_count": 11,
   "metadata": {},
   "outputs": [
    {
     "name": "stderr",
     "output_type": "stream",
     "text": [
      "[nltk_data] Downloading package stopwords to\n",
      "[nltk_data]     C:\\Users\\user1\\AppData\\Roaming\\nltk_data...\n",
      "[nltk_data]   Package stopwords is already up-to-date!\n"
     ]
    },
    {
     "data": {
      "text/plain": [
       "True"
      ]
     },
     "execution_count": 11,
     "metadata": {},
     "output_type": "execute_result"
    }
   ],
   "source": [
    "nltk.download('stopwords')\n"
   ]
  },
  {
   "cell_type": "code",
   "execution_count": 12,
   "metadata": {},
   "outputs": [],
   "source": [
    "from nltk.corpus import stopwords\n",
    "stop_words = stopwords.words('english')"
   ]
  },
  {
   "cell_type": "code",
   "execution_count": 13,
   "metadata": {},
   "outputs": [],
   "source": [
    "# function to remove stopwords\n",
    "def remove_stopwords(sen):\n",
    "    sen_new = \" \".join([i for i in sen if i not in stop_words])\n",
    "    return sen_new"
   ]
  },
  {
   "cell_type": "code",
   "execution_count": 14,
   "metadata": {},
   "outputs": [],
   "source": [
    "# remove stopwords from the sentences\n",
    "clean_sentences = [remove_stopwords(r.split()) for r in clean_sentences]"
   ]
  },
  {
   "cell_type": "code",
   "execution_count": 15,
   "metadata": {},
   "outputs": [],
   "source": [
    "# Extract word vectors\n",
    "word_embeddings = {}\n",
    "f = open('glove.6B.100d.txt', encoding='utf-8')\n",
    "for line in f:\n",
    "    values = line.split()\n",
    "    word = values[0]\n",
    "    coefs = np.asarray(values[1:], dtype='float32')\n",
    "    word_embeddings[word] = coefs\n",
    "f.close()"
   ]
  },
  {
   "cell_type": "code",
   "execution_count": 16,
   "metadata": {},
   "outputs": [],
   "source": [
    "sentence_vectors = []\n",
    "for i in clean_sentences:\n",
    "  if len(i) != 0:\n",
    "    v = sum([word_embeddings.get(w, np.zeros((100,))) for w in i.split()])/(len(i.split())+0.001)\n",
    "  else:\n",
    "    v = np.zeros((100,))\n",
    "  sentence_vectors.append(v)"
   ]
  },
  {
   "cell_type": "code",
   "execution_count": 17,
   "metadata": {},
   "outputs": [],
   "source": [
    "# similarity matrix\n",
    "sim_mat = np.zeros([len(sentences), len(sentences)])"
   ]
  },
  {
   "cell_type": "code",
   "execution_count": 18,
   "metadata": {},
   "outputs": [],
   "source": [
    "from sklearn.metrics.pairwise import cosine_similarity\n"
   ]
  },
  {
   "cell_type": "code",
   "execution_count": 19,
   "metadata": {},
   "outputs": [],
   "source": [
    "for i in range(len(sentences)):\n",
    "  for j in range(len(sentences)):\n",
    "    if i != j:\n",
    "      sim_mat[i][j] = cosine_similarity(sentence_vectors[i].reshape(1,100), sentence_vectors[j].reshape(1,100))[0,0]"
   ]
  },
  {
   "cell_type": "code",
   "execution_count": 20,
   "metadata": {},
   "outputs": [],
   "source": [
    "import networkx as nx\n",
    "\n",
    "nx_graph = nx.from_numpy_array(sim_mat)\n",
    "scores = nx.pagerank(nx_graph)"
   ]
  },
  {
   "cell_type": "code",
   "execution_count": 21,
   "metadata": {},
   "outputs": [],
   "source": [
    "ranked_sentences = sorted(((scores[i],s) for i,s in enumerate(sentences)), reverse=True)\n"
   ]
  },
  {
   "cell_type": "code",
   "execution_count": 22,
   "metadata": {},
   "outputs": [
    {
     "name": "stdout",
     "output_type": "stream",
     "text": [
      "The company did not “prove that that mark has acquired, throughout the territory of the EU, distinctive character following the use which had been made of it”, the general court of the EU said on Wednesday.\n",
      "He added that the case highlighted the challenge for well-known brands trying to gain protection across the EU.\n",
      "“This ruling is limited to this particular execution of the three-stripe mark and does not impact on the broad scope of protection that Adidas has on its well-known three-stripe mark in various forms in Europe,” the company said in a statement.\n",
      "“TSMC has long used its dominant market position to exert pressure on its smaller competitors, and the retaliatory litigation filed today is in keeping with that history,” Santa Clara, California-based GlobalFoundries said in a statement.\n",
      "Mark Caddle, a trademark lawyer at the European intellectual property firm Withers & Rogers, said Adidas had “failed to provide sufficient evidence to show that when seeing three stripes on clothing, footwear or headgear, consumers immediately associate such products with Adidas”.\n",
      "The Guardian reported this year that the Mail on Sunday was being threatened with legal action because the authors of letters retain ownership of the copyright even after the physical correspondence is in the possession of another individual.\n",
      "David Stone, the global head of intellectual property at the law firm Allen & Overy, said the invalidation of the trademark “won’t make much practical difference on the street” because Adidas has trademarks on the three-stripe logo in various specific positions.\n",
      "Pursuing legal action on this narrow basis also gives the royals a greater chance of success against DMG Media, formerly Associated Newspapers, which also owns the Daily Mail and MailOnline – both of which have run a substantial number of stories about Meghan.\n",
      "The suit claims that Serruya’s books are “a literary patchwork, piecing together phrases whose form portrays emotions practically identical to those expressed in the plaintiff’s books.” She is asking for damages at 3,000 times the value of the highest sale price for any Serruya work mentioned in the lawsuit, according to the Associated Press newswire; six of Serruya’s books are cited as including plagiarised passages, including Royal Love and From the Baroness’s Diary, with the court papers including examples of similarities with Roberts’ titles Unfinished Business, River Ends and Whiskey Beach.\n",
      "In 2003, it lost a dispute with the Dutch company Fitnessworld, which was using a two-stripe design.\n"
     ]
    }
   ],
   "source": [
    "# Extract top 10 sentences as the summary\n",
    "for i in range(10):\n",
    "  print(ranked_sentences[i][1])"
   ]
  },
  {
   "cell_type": "code",
   "execution_count": null,
   "metadata": {},
   "outputs": [],
   "source": []
  }
 ],
 "metadata": {
  "kernelspec": {
   "display_name": "Python 3",
   "language": "python",
   "name": "python3"
  },
  "language_info": {
   "codemirror_mode": {
    "name": "ipython",
    "version": 3
   },
   "file_extension": ".py",
   "mimetype": "text/x-python",
   "name": "python",
   "nbconvert_exporter": "python",
   "pygments_lexer": "ipython3",
   "version": "3.7.3"
  }
 },
 "nbformat": 4,
 "nbformat_minor": 2
}
